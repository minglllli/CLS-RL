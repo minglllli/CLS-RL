{
 "cells": [
  {
   "cell_type": "code",
   "execution_count": null,
   "metadata": {},
   "outputs": [],
   "source": [
    "# few-shot train and test dataset construction\n",
    "def read_classname(file):\n",
    "    class_name = []\n",
    "    with open(file, 'r') as file:\n",
    "        lines = file.readlines()\n",
    "        for line in lines:\n",
    "            class_name.append(line.strip('\\n'))\n",
    "    return class_name\n",
    "def read_jsonl(file,train=False,test=False):\n",
    "    data_file_path = file\n",
    "    f = open(data_file_path, \"r\", encoding=\"utf-8\")\n",
    "    data_file_list = [json.loads(line) for line in f]\n",
    "    if train:\n",
    "        data_file_list = [item for item in data_file_list if item[\"split\"] == \"train\"]\n",
    "    if test:\n",
    "        data_file_list = [item for item in data_file_list if item[\"split\"] == \"valid\" or item[\"split\"] == 'test']\n",
    "    return data_file_list\n",
    "\n",
    "def choice_list(choice_n, item, total_class_list):\n",
    "    random.shuffle(total_class_list)\n",
    "    choice_list = total_class_list[:choice_n]\n",
    "    if item['label'] not in choice_list:\n",
    "        choice_list = choice_list[:-1]+[item['label']]\n",
    "    random.shuffle(choice_list)\n",
    "\n",
    "    additional_text = ' Please choose one from list [ '\n",
    "    for name in choice_list:\n",
    "        additional_text = additional_text + name + ', '\n",
    "    additional_text = additional_text[:-2].strip() + '].'\n",
    "    return additional_text"
   ]
  },
  {
   "cell_type": "code",
   "execution_count": null,
   "metadata": {},
   "outputs": [],
   "source": [
    "import random\n",
    "import json\n",
    "# imagenet, Caltech101,DescribableTextures, EuroSAT, Food101, OxfordFlowers, OxfordPets, StanfordCars, SUN397, UCF101, FGVCAircraft\n",
    "dataset_list = 'Imagenet, Caltech101,DescribableTextures, EuroSAT, Food101, OxfordFlowers, OxfordPets, StanfordCars, SUN397, UCF101, FGVCAircraft'\n",
    "dataset_list = dataset_list.split(',')\n",
    "dataset_list = [i.strip() for i in dataset_list]\n",
    "dataset = dataset_list[0]\n",
    "print(dataset)\n",
    "shot = 4\n",
    "setting = 'few-shot' \n",
    "assert setting=='b2n' or setting=='few-shot'\n",
    "assert dataset in dataset_list"
   ]
  },
  {
   "cell_type": "code",
   "execution_count": null,
   "metadata": {},
   "outputs": [],
   "source": [
    "# imagenet has classes with same name\n",
    "if dataset=='Imagenet':\n",
    "    file = 'classnames.txt'\n",
    "    class_name = []\n",
    "    with open('class_list/all_datasets/'+file, 'r') as file:\n",
    "        lines = file.readlines()\n",
    "        for line in lines:\n",
    "            prefix = line.split(' ')[0]\n",
    "            class_name.append(line[len(prefix):].strip().strip('\\n'))\n",
    "else:\n",
    "    class_name = read_classname('class_list/all_datasets/'+dataset+'_classname.txt')\n",
    "data_file_list_test = read_jsonl('class_list/all_datasets/'+dataset+'.jsonl',test=True)\n",
    "data_file_list_train = read_jsonl('class_list/all_datasets/'+dataset+'.jsonl',train=True)"
   ]
  },
  {
   "cell_type": "code",
   "execution_count": null,
   "metadata": {},
   "outputs": [],
   "source": [
    "print(data_file_list_train[0])\n",
    "print(len(data_file_list_train))\n",
    "print(len(data_file_list_test))\n",
    "print(len(class_name))"
   ]
  },
  {
   "cell_type": "code",
   "execution_count": null,
   "metadata": {},
   "outputs": [],
   "source": [
    "choice_n = int(len(class_name)*0.4)\n",
    "if choice_n<30:\n",
    "    if len(class_name)<30:\n",
    "        choice_n=len(class_name)\n",
    "    else:\n",
    "        choice_n=len(class_name)\n",
    "if choice_n>100:\n",
    "    choice_n=100\n",
    "print(choice_n)"
   ]
  },
  {
   "cell_type": "code",
   "execution_count": null,
   "metadata": {},
   "outputs": [],
   "source": [
    "num_map = {}\n",
    "for i in range(len(class_name)):\n",
    "    if class_name[i] in num_map.keys():\n",
    "        num_map[class_name[i]] += shot\n",
    "    else:\n",
    "        num_map[class_name[i]] = shot"
   ]
  },
  {
   "cell_type": "code",
   "execution_count": null,
   "metadata": {},
   "outputs": [],
   "source": [
    "#What type of object is in the centered satellite photo?\n",
    "#What actions is the person performing in the photo?\n",
    "#What type of texture is in the photo?\n",
    "#What type of aircraft is in the photo?\n",
    "# 'Imagenet, Caltech101,DescribableTextures, EuroSAT, Food101, OxfordFlowers, OxfordPets, StanfordCars, SUN397, UCF101, FGVCAircraft'\n",
    "if dataset=='EuroSAT':\n",
    "    print(dataset)\n",
    "    prefix = 'What type of object is in the centered satellite photo?'\n",
    "elif dataset=='UCF101':\n",
    "    print(dataset)\n",
    "    prefix = 'What actions is the person performing in the photo?'\n",
    "elif dataset=='DescribableTextures':\n",
    "    print(dataset)\n",
    "    prefix = 'What type of texture is in the photo?'\n",
    "elif dataset=='FGVCAircraft':\n",
    "    print(dataset)\n",
    "    prefix = 'What type of aircraft is in the photo?'\n",
    "else:\n",
    "    print(dataset)\n",
    "    prefix = 'What type of object is in the photo?'\n",
    "    \n",
    "random.shuffle(data_file_list_train)\n",
    "fewshot_lines_train = []\n",
    "for i in range(len(data_file_list_train)):\n",
    "    item = data_file_list_train[i]\n",
    "    if num_map[item['label']]>0:\n",
    "        choice_text = choice_list(choice_n, item, class_name)\n",
    "        item['problem'] = prefix+'\\n'+choice_text\n",
    "        fewshot_lines_train.append(item)\n",
    "        num_map[item['label']] -= 1\n",
    "    if len(fewshot_lines_train) == shot*len(class_name):\n",
    "        break\n",
    "        \n",
    "test_lines = []\n",
    "for item in data_file_list_test:\n",
    "    choice_text = choice_list(choice_n, item, class_name)\n",
    "    item['problem'] = prefix+'\\n'+choice_text\n",
    "    test_lines.append(item)\n",
    "   "
   ]
  },
  {
   "cell_type": "code",
   "execution_count": null,
   "metadata": {},
   "outputs": [],
   "source": [
    "print(fewshot_lines_train[0])\n",
    "print(test_lines[0])"
   ]
  },
  {
   "cell_type": "code",
   "execution_count": null,
   "metadata": {},
   "outputs": [],
   "source": [
    "for i in num_map.values():\n",
    "    assert i==0"
   ]
  },
  {
   "cell_type": "code",
   "execution_count": null,
   "metadata": {},
   "outputs": [],
   "source": [
    "# check whether lines are correct\n",
    "def parse_class(line):\n",
    "    line = line.split('[')[1][:-2]\n",
    "    classes = line.split(',')\n",
    "    classes = [i.strip() for i in classes]\n",
    "    return classes\n",
    "\n",
    "num_map = {}\n",
    "for i in range(len(class_name)):\n",
    "    num_map[class_name[i]] = 0\n",
    "    \n",
    "c_class = []\n",
    "for item in fewshot_lines_train:\n",
    "    c_class.append(item['label'])\n",
    "    num_map[item['label']] += 1\n",
    "    assert item['label'] in class_name\n",
    "    choice_text = parse_class(item['problem'])\n",
    "    assert item['label'] in choice_text\n",
    "    assert len(choice_text)==choice_n\n",
    "    for c in choice_text:\n",
    "        if c not in class_name:\n",
    "            print('error 1',c)\n",
    "            exit()\n",
    "print(len(set(c_class)),len(class_name))\n",
    "assert len(set(c_class))==len(class_name)\n",
    "for i in num_map.values():\n",
    "    assert i==shot\n",
    "assert len(fewshot_lines_train) == shot*len(class_name)\n",
    "print(len(test_lines))\n",
    "for item in test_lines:\n",
    "    assert item['label'] in class_name\n",
    "    choice_text = parse_class(item['problem'])\n",
    "    assert item['label'] in choice_text\n",
    "    for c in choice_text:\n",
    "        if c not in class_name:\n",
    "            print('error 2',c)\n"
   ]
  },
  {
   "cell_type": "code",
   "execution_count": null,
   "metadata": {},
   "outputs": [],
   "source": [
    "print(len(fewshot_lines_train))"
   ]
  },
  {
   "cell_type": "code",
   "execution_count": null,
   "metadata": {},
   "outputs": [],
   "source": [
    "prefix = '/Users/mingli/Desktop/class_list/datasets_fewshot_mc_40percent/'\n",
    "with open(prefix+dataset+'_fewshot_'+str(shot)+\".jsonl\", 'w') as file:\n",
    "    for item in fewshot_lines_train:\n",
    "        # Write each dictionary as a JSON object on a new line\n",
    "        json.dump(item, file)\n",
    "        file.write('\\n')\n",
    "\n",
    "\n",
    "'''with open(prefix+dataset+'_fewshot_'+\"test.jsonl\", \"w\") as file:\n",
    "    for item in test_lines:\n",
    "        # Write each dictionary as a JSON object on a new line\n",
    "        json.dump(item, file)\n",
    "        file.write('\\n')'''\n",
    "\n"
   ]
  }
 ],
 "metadata": {
  "kernelspec": {
   "display_name": "Python 3 (ipykernel)",
   "language": "python",
   "name": "python3"
  },
  "language_info": {
   "codemirror_mode": {
    "name": "ipython",
    "version": 3
   },
   "file_extension": ".py",
   "mimetype": "text/x-python",
   "name": "python",
   "nbconvert_exporter": "python",
   "pygments_lexer": "ipython3",
   "version": "3.9.21"
  }
 },
 "nbformat": 4,
 "nbformat_minor": 4
}
